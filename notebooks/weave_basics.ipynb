{
 "cells": [
  {
   "cell_type": "code",
   "execution_count": null,
   "id": "f5b3c5b937f2175e",
   "metadata": {
    "ExecuteTime": {
     "end_time": "2025-02-18T11:03:44.946833Z",
     "start_time": "2025-02-18T11:03:44.161498Z"
    }
   },
   "outputs": [],
   "source": [
    "import weave\n",
    "from weave import Dataset as WeaveDataset\n",
    "from weave import Evaluation as WeaveEvaluation\n",
    "from openai import OpenAI\n",
    "import json\n",
    "import asyncio"
   ]
  },
  {
   "cell_type": "code",
   "execution_count": null,
   "id": "d4d73d76e74e4233",
   "metadata": {
    "ExecuteTime": {
     "end_time": "2025-02-18T11:03:44.972420Z",
     "start_time": "2025-02-18T11:03:44.953395Z"
    }
   },
   "outputs": [],
   "source": [
    "client = OpenAI()"
   ]
  },
  {
   "cell_type": "code",
   "execution_count": null,
   "id": "fc26d7469f9a8f66",
   "metadata": {
    "ExecuteTime": {
     "end_time": "2025-02-18T11:04:12.863153Z",
     "start_time": "2025-02-18T11:04:11.652065Z"
    }
   },
   "outputs": [],
   "source": [
    "# Initialise the weave project\n",
    "weave.init('experiment_weave_dino')"
   ]
  },
  {
   "cell_type": "code",
   "execution_count": null,
   "id": "893bad1874963b4f",
   "metadata": {},
   "outputs": [],
   "source": []
  },
  {
   "cell_type": "code",
   "execution_count": null,
   "id": "412e9c3e19e21d6f",
   "metadata": {
    "ExecuteTime": {
     "end_time": "2025-02-17T15:11:03.739406Z",
     "start_time": "2025-02-17T15:11:03.736927Z"
    }
   },
   "outputs": [],
   "source": [
    "# Weave will track the inputs, outputs and code of this function\n",
    "@weave.op()\n",
    "def extract_dinos(sentence: str) -> dict:\n",
    "    response = client.chat.completions.create(\n",
    "        model = \"gpt-4o\",\n",
    "        messages= [\n",
    "            {\n",
    "                \"role\": \"system\",\n",
    "                \"content\": \"\"\"In JSON format extract a list of `dinosaurs` with their `name`, their `common_name`, and whether its `diet` is a herbivore or carnivore\"\"\"\n",
    "            },\n",
    "            {\n",
    "                \"role\": \"user\",\n",
    "                \"content\": sentence\n",
    "            }\n",
    "        ],\n",
    "        response_format={\"type\": \"json_object\"}\n",
    "    )\n",
    "    return response.choices[0].message.content"
   ]
  },
  {
   "cell_type": "code",
   "execution_count": null,
   "id": "8635efb322877899",
   "metadata": {
    "ExecuteTime": {
     "end_time": "2025-02-17T15:11:03.744744Z",
     "start_time": "2025-02-17T15:11:03.743542Z"
    }
   },
   "outputs": [],
   "source": []
  },
  {
   "cell_type": "code",
   "execution_count": null,
   "id": "a82031ca3eb7cf47",
   "metadata": {
    "ExecuteTime": {
     "end_time": "2025-02-17T15:11:03.751480Z",
     "start_time": "2025-02-17T15:11:03.749714Z"
    }
   },
   "outputs": [],
   "source": [
    "@weave.op()\n",
    "def count_dinos(dino_data: dict) -> int:\n",
    "    # count the number of items in the returned list\n",
    "    k = list(dino_data.keys())[0]\n",
    "    return len(dino_data[k])"
   ]
  },
  {
   "cell_type": "code",
   "execution_count": null,
   "id": "fa19b6f50e82bfdb",
   "metadata": {
    "ExecuteTime": {
     "end_time": "2025-02-17T15:11:03.765933Z",
     "start_time": "2025-02-17T15:11:03.764097Z"
    }
   },
   "outputs": [],
   "source": [
    "@weave.op()\n",
    "def dino_tracker(sentence: str) -> dict:\n",
    "    # extract dinosaurs using a LLM\n",
    "    dino_data = extract_dinos(sentence)\n",
    "\n",
    "    # count the number of dinosaurs returned\n",
    "    dino_data = json.loads(dino_data)\n",
    "    n_dinos = count_dinos(dino_data)\n",
    "    return {\"n_dinosaurs\": n_dinos, \"dinosaurs\": dino_data}"
   ]
  },
  {
   "cell_type": "code",
   "execution_count": null,
   "id": "759a337c8b410d27",
   "metadata": {
    "ExecuteTime": {
     "end_time": "2025-02-17T15:11:03.774664Z",
     "start_time": "2025-02-17T15:11:03.773231Z"
    }
   },
   "outputs": [],
   "source": []
  },
  {
   "cell_type": "code",
   "execution_count": null,
   "id": "b3ecab9e3b3ffa90",
   "metadata": {
    "ExecuteTime": {
     "end_time": "2025-02-17T15:11:03.781828Z",
     "start_time": "2025-02-17T15:11:03.779867Z"
    }
   },
   "outputs": [],
   "source": []
  },
  {
   "cell_type": "code",
   "execution_count": null,
   "id": "85240d42885cd87",
   "metadata": {
    "ExecuteTime": {
     "end_time": "2025-02-17T15:11:03.793222Z",
     "start_time": "2025-02-17T15:11:03.791489Z"
    }
   },
   "outputs": [],
   "source": [
    "sentence = \"\"\"I love dinosaurs. In the movie, Tyrannosaurus rex (T. rex) chased after a Triceratops (Trike), both carnivore and herbivore locked in an ancient dance. Meanwhile, a gentle giant Brachiosaurus (Brachi) calmly munched on treetops, blissfully unaware of the chaos below.\"\"\""
   ]
  },
  {
   "cell_type": "code",
   "execution_count": null,
   "id": "606f274b451e3fc2",
   "metadata": {
    "ExecuteTime": {
     "end_time": "2025-02-17T15:11:03.798739Z",
     "start_time": "2025-02-17T15:11:03.797657Z"
    }
   },
   "outputs": [],
   "source": []
  },
  {
   "cell_type": "code",
   "execution_count": null,
   "id": "6f445b6905c401dc",
   "metadata": {
    "ExecuteTime": {
     "end_time": "2025-02-17T15:11:07.875412Z",
     "start_time": "2025-02-17T15:11:03.802871Z"
    }
   },
   "outputs": [],
   "source": [
    "result = dino_tracker(sentence)"
   ]
  },
  {
   "cell_type": "code",
   "execution_count": null,
   "id": "dcd29648961e15f0",
   "metadata": {
    "ExecuteTime": {
     "end_time": "2025-02-17T15:11:07.890473Z",
     "start_time": "2025-02-17T15:11:07.888356Z"
    }
   },
   "outputs": [],
   "source": [
    "print(f'result = \\n{result}')"
   ]
  },
  {
   "cell_type": "code",
   "execution_count": null,
   "id": "e2c0cca01419c083",
   "metadata": {
    "ExecuteTime": {
     "end_time": "2025-02-17T15:11:07.904420Z",
     "start_time": "2025-02-17T15:11:07.902749Z"
    }
   },
   "outputs": [],
   "source": []
  },
  {
   "cell_type": "code",
   "execution_count": null,
   "id": "522779a1ff390bfe",
   "metadata": {
    "ExecuteTime": {
     "end_time": "2025-02-17T15:11:07.912059Z",
     "start_time": "2025-02-17T15:11:07.910450Z"
    }
   },
   "outputs": [],
   "source": [
    "sentence_2 = \"There are no more dinosaurs in this world.\""
   ]
  },
  {
   "cell_type": "code",
   "execution_count": null,
   "id": "cc44e90af3c900b8",
   "metadata": {
    "ExecuteTime": {
     "end_time": "2025-02-17T15:11:20.931342Z",
     "start_time": "2025-02-17T15:11:07.919373Z"
    }
   },
   "outputs": [],
   "source": [
    "with weave.attributes({'user_id': 'bikash', 'env': 'development', 'contents': 'not included'}):\n",
    "    result_2 = dino_tracker(sentence_2)"
   ]
  },
  {
   "cell_type": "code",
   "execution_count": null,
   "id": "b45195b4f0642583",
   "metadata": {
    "ExecuteTime": {
     "end_time": "2025-02-17T15:11:20.946867Z",
     "start_time": "2025-02-17T15:11:20.943799Z"
    }
   },
   "outputs": [],
   "source": [
    "print(f'result_2 = \\n{result_2}')"
   ]
  },
  {
   "cell_type": "code",
   "execution_count": null,
   "id": "9ac7ab536e0c7163",
   "metadata": {
    "ExecuteTime": {
     "end_time": "2025-02-17T15:11:20.965374Z",
     "start_time": "2025-02-17T15:11:20.963812Z"
    }
   },
   "outputs": [],
   "source": []
  },
  {
   "cell_type": "code",
   "execution_count": null,
   "id": "b40d2a6adf4d8090",
   "metadata": {},
   "outputs": [],
   "source": []
  },
  {
   "cell_type": "markdown",
   "id": "91757e76358585af",
   "metadata": {},
   "source": [
    "# Example of a Weave tracked dataset"
   ]
  },
  {
   "cell_type": "code",
   "execution_count": null,
   "id": "639c8bdf-646c-416f-849e-d8f3d3494840",
   "metadata": {},
   "outputs": [],
   "source": [
    "# Documentation at https://weave-docs.wandb.ai/guides/core-types/datasets"
   ]
  },
  {
   "cell_type": "code",
   "execution_count": null,
   "id": "98d3cfecf349a787",
   "metadata": {
    "ExecuteTime": {
     "end_time": "2025-02-17T15:55:32.772575Z",
     "start_time": "2025-02-17T15:55:27.794015Z"
    }
   },
   "outputs": [],
   "source": [
    "example_dataset = WeaveDataset(name='example-dataset', rows=[\n",
    "    {'id': '0', 'sentence': \"He no likes ice cream.\", 'correction': \"He doesn't like ice cream.\"},\n",
    "    {'id': '1', 'sentence': \"She goed to the store.\", 'correction': \"She went to the store.\"},\n",
    "    {'id': '2', 'sentence': \"They plays video games all day.\", 'correction': \"They play video games all day.\"}\n",
    "])\n",
    "# Publish the dataset\n",
    "weave.publish(example_dataset)"
   ]
  },
  {
   "cell_type": "code",
   "execution_count": null,
   "id": "b0f99dd5147fefd9",
   "metadata": {
    "ExecuteTime": {
     "end_time": "2025-02-17T15:57:37.265304Z",
     "start_time": "2025-02-17T15:57:36.612180Z"
    }
   },
   "outputs": [],
   "source": [
    "# Retrieve the dataset\n",
    "dataset_ref = weave.ref('example-dataset').get()"
   ]
  },
  {
   "cell_type": "code",
   "execution_count": null,
   "id": "da0cc7cb5039bfed",
   "metadata": {
    "ExecuteTime": {
     "end_time": "2025-02-17T15:58:07.219267Z",
     "start_time": "2025-02-17T15:58:07.216011Z"
    }
   },
   "outputs": [],
   "source": [
    "example_input = dataset_ref.rows[2]['sentence']\n",
    "example_input"
   ]
  },
  {
   "cell_type": "code",
   "execution_count": null,
   "id": "d8bcf675be1ad94c",
   "metadata": {},
   "outputs": [],
   "source": []
  },
  {
   "cell_type": "code",
   "execution_count": null,
   "id": "e5f4d63f8c0e2f95",
   "metadata": {},
   "outputs": [],
   "source": []
  },
  {
   "cell_type": "markdown",
   "id": "9ef2a041-6a76-4996-bb67-f1cfe8ad1c94",
   "metadata": {},
   "source": [
    "# Evaluations"
   ]
  },
  {
   "cell_type": "code",
   "execution_count": null,
   "id": "bad8dcef-692d-443a-8175-4c934667454d",
   "metadata": {},
   "outputs": [],
   "source": [
    "# Documentation at https://weave-docs.wandb.ai/guides/core-types/evaluations"
   ]
  },
  {
   "cell_type": "code",
   "execution_count": null,
   "id": "4a565fd6-9033-4335-9a12-2d51e4f70d09",
   "metadata": {},
   "outputs": [],
   "source": [
    "# First we will need a dataset. Can use the dataset created above. Alternatively, it can be a list of dictionaries."
   ]
  },
  {
   "cell_type": "code",
   "execution_count": null,
   "id": "b838e68e-e25b-4511-bdf8-bb04fe973e68",
   "metadata": {
    "tags": []
   },
   "outputs": [],
   "source": [
    "# Then define your custom scoring function.\n",
    "# Scoring functions need to have a model_output keyword argument, but the other arguments are user defined and are taken from the dataset examples. \n",
    "#  It will only take the necessary keys by using a dictionary key based on the argument name.\n",
    "@weave.op()\n",
    "def match_score1(correction: str, model_output: dict) -> dict:\n",
    "    # Here is where you'd define the logic to score the model output\n",
    "    return {'match': correction == model_output['generated_text']}\n",
    "\n",
    "# Instantiate an Evaluation object with the specification of the dataset and the scoring function to use for evaluation.\n",
    "evaluation = WeaveEvaluation(\n",
    "    dataset=example_dataset, scorers=[match_score1]\n",
    ")"
   ]
  },
  {
   "cell_type": "code",
   "execution_count": null,
   "id": "fba352a7-ab65-43c5-bb51-d502fd6a7472",
   "metadata": {
    "tags": []
   },
   "outputs": [],
   "source": [
    "# Then we need a model and compute predictions on the dataset using the model.\n",
    "class MyModel(weave.Model):\n",
    "    prompt: str\n",
    "\n",
    "    @weave.op()\n",
    "    def predict(self, sentence: str):\n",
    "        # here's where you would add your LLM call and return the output\n",
    "        return {'generated_text': 'Hello, ' + self.prompt}\n",
    "\n",
    "model = MyModel(prompt='World')"
   ]
  },
  {
   "cell_type": "code",
   "execution_count": null,
   "id": "75d081fe-234a-410d-8eba-9a88f49daee4",
   "metadata": {
    "tags": []
   },
   "outputs": [],
   "source": [
    "# Run evaluation on predictions of the model.\n",
    "# asyncio.run(evaluation.evaluate(model))\n",
    "# if you're in a Jupyter Notebook, run:\n",
    "await evaluation.evaluate(model)"
   ]
  },
  {
   "cell_type": "code",
   "execution_count": null,
   "id": "1b21e647-c659-4395-a4a2-af96972503c4",
   "metadata": {},
   "outputs": [],
   "source": []
  }
 ],
 "metadata": {
  "kernelspec": {
   "display_name": "Python 3 (ipykernel)",
   "language": "python",
   "name": "python3"
  },
  "language_info": {
   "codemirror_mode": {
    "name": "ipython",
    "version": 3
   },
   "file_extension": ".py",
   "mimetype": "text/x-python",
   "name": "python",
   "nbconvert_exporter": "python",
   "pygments_lexer": "ipython3",
   "version": "3.13.2"
  }
 },
 "nbformat": 4,
 "nbformat_minor": 5
}
